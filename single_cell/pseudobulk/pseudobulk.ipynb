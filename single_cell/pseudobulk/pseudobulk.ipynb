{
 "cells": [
  {
   "cell_type": "markdown",
   "id": "404b48be-6e11-4539-8524-4213162d909c",
   "metadata": {
    "editable": true,
    "slideshow": {
     "slide_type": ""
    },
    "tags": []
   },
   "source": [
    "# Pseudobulk\n",
    "\n",
    "Here I create pseudobulk data from some specific clusters expressin \"Ntn4\" gene.\n",
    "\n",
    "The result would be an expression matrix of samples and genes for each cluster.\n"
   ]
  },
  {
   "cell_type": "code",
   "execution_count": 1,
   "id": "f1990713-5968-4fc7-aeb6-5a842606fd8c",
   "metadata": {},
   "outputs": [],
   "source": [
    "import scanpy as sc\n",
    "import anndata as ad\n",
    "\n",
    "import pandas as pd\n",
    "import numpy as np"
   ]
  },
  {
   "cell_type": "code",
   "execution_count": 3,
   "id": "161629d6-b1b6-4faa-8bca-01a841e0ec10",
   "metadata": {},
   "outputs": [
    {
     "name": "stdout",
     "output_type": "stream",
     "text": [
      "Running Scanpy 1.10.3, on 2024-12-05 12:13.\n",
      "scanpy==1.10.3 anndata==0.10.9 umap==0.5.7 numpy==2.0.2 scipy==1.14.1 pandas==2.2.3 scikit-learn==1.5.2 statsmodels==0.14.4 igraph==0.11.8 pynndescent==0.5.13\n"
     ]
    }
   ],
   "source": [
    "sc.logging.print_version_and_date()\n",
    "sc.logging.print_header()"
   ]
  },
  {
   "cell_type": "markdown",
   "id": "46a0c319-9e2b-480f-8938-89e648f7b267",
   "metadata": {},
   "source": [
    "## Prepare data"
   ]
  },
  {
   "attachments": {},
   "cell_type": "markdown",
   "id": "3211b168-0575-43fa-945c-405ee9438098",
   "metadata": {},
   "source": [
    "### read data"
   ]
  },
  {
   "cell_type": "code",
   "execution_count": 4,
   "id": "89939ac4-d294-43cc-b539-ced686f08f00",
   "metadata": {},
   "outputs": [],
   "source": [
    "adata = sc.read_h5ad(\"results/clustered_annotated_final.h5ad.gz\")"
   ]
  },
  {
   "cell_type": "code",
   "execution_count": 5,
   "id": "b5117978-664f-454c-9838-311a1c98c0c7",
   "metadata": {},
   "outputs": [
    {
     "data": {
      "text/plain": [
       "AnnData object with n_obs × n_vars = 36553 × 21893\n",
       "    obs: 'data', 'status', 'replicate', 'disease', 'condition', 'n_genes_by_counts', 'log1p_n_genes_by_counts', 'total_counts', 'log1p_total_counts', 'pct_counts_in_top_50_genes', 'pct_counts_in_top_100_genes', 'pct_counts_in_top_200_genes', 'pct_counts_in_top_500_genes', 'total_counts_mt', 'log1p_total_counts_mt', 'pct_counts_mt', 'n_counts', 'doublet_score', 'predicted_doublet', 'leiden', 'cell_type'\n",
       "    var: 'gene_ids', 'feature_types', 'mt', 'n_cells_by_counts', 'mean_counts', 'log1p_mean_counts', 'pct_dropout_by_counts', 'total_counts', 'log1p_total_counts', 'n_cells', 'highly_variable_nbatches', 'highly_variable_intersection', 'highly_variable', 'means', 'dispersions', 'dispersions_norm'\n",
       "    uns: 'condition_colors', 'data_colors', 'hvg', 'leiden', 'leiden_colors', 'neighbors', 'pca', 'umap'\n",
       "    obsm: 'X_pca', 'X_pca_harmony', 'X_umap'\n",
       "    varm: 'PCs'\n",
       "    layers: 'counts'\n",
       "    obsp: 'connectivities', 'distances'"
      ]
     },
     "execution_count": 5,
     "metadata": {},
     "output_type": "execute_result"
    }
   ],
   "source": [
    "adata"
   ]
  },
  {
   "cell_type": "code",
   "execution_count": 6,
   "id": "c0d78e71-83dc-44aa-9978-b981052973bd",
   "metadata": {},
   "outputs": [
    {
     "data": {
      "text/plain": [
       "View of AnnData object with n_obs × n_vars = 20233 × 21893\n",
       "    obs: 'data', 'status', 'replicate', 'disease', 'condition', 'n_genes_by_counts', 'log1p_n_genes_by_counts', 'total_counts', 'log1p_total_counts', 'pct_counts_in_top_50_genes', 'pct_counts_in_top_100_genes', 'pct_counts_in_top_200_genes', 'pct_counts_in_top_500_genes', 'total_counts_mt', 'log1p_total_counts_mt', 'pct_counts_mt', 'n_counts', 'doublet_score', 'predicted_doublet', 'leiden', 'cell_type'\n",
       "    var: 'gene_ids', 'feature_types', 'mt', 'n_cells_by_counts', 'mean_counts', 'log1p_mean_counts', 'pct_dropout_by_counts', 'total_counts', 'log1p_total_counts', 'n_cells', 'highly_variable_nbatches', 'highly_variable_intersection', 'highly_variable', 'means', 'dispersions', 'dispersions_norm'\n",
       "    uns: 'condition_colors', 'data_colors', 'hvg', 'leiden', 'leiden_colors', 'neighbors', 'pca', 'umap'\n",
       "    obsm: 'X_pca', 'X_pca_harmony', 'X_umap'\n",
       "    varm: 'PCs'\n",
       "    layers: 'counts'\n",
       "    obsp: 'connectivities', 'distances'"
      ]
     },
     "execution_count": 6,
     "metadata": {},
     "output_type": "execute_result"
    }
   ],
   "source": [
    "adata_healthy = adata.copy()\n",
    "adata_healthy = adata_healthy[adata_healthy.obs[\"disease\"] == \"healthy\", :]\n",
    "adata_healthy"
   ]
  },
  {
   "cell_type": "code",
   "execution_count": 8,
   "id": "65d5dd4f-c8a4-430b-bb11-37609a42d91d",
   "metadata": {},
   "outputs": [
    {
     "name": "stdout",
     "output_type": "stream",
     "text": [
      "Original adata shape: (20233, 21893)\n",
      "Subset adata shape: (4969, 21893)\n"
     ]
    }
   ],
   "source": [
    "# List of desired cell types\n",
    "cell_types_to_extract = [\"Capi aerocyte\", \"Vein EC\", \"Capi\", \"Advential fibro\", \"Pericyte\", \"Myofibroblast\", \"Alveolar epi type 2\", \"Lymphatic vessel EC\"]\n",
    "\n",
    "# Check that your cell type annotation is stored in adata.obs\n",
    "cell_type_column = \"cell_type\"\n",
    "\n",
    "# Subset the AnnData object\n",
    "adata_subset = adata_healthy[adata_healthy.obs[cell_type_column].isin(cell_types_to_extract)].copy()\n",
    "\n",
    "# Verify the result\n",
    "print(f\"Original adata shape: {adata_healthy.shape}\")\n",
    "print(f\"Subset adata shape: {adata_subset.shape}\")\n"
   ]
  },
  {
   "cell_type": "markdown",
   "id": "56b584d6-dffe-4bf0-b54a-ea4341b84163",
   "metadata": {},
   "source": [
    "# pseudobulk"
   ]
  },
  {
   "cell_type": "code",
   "execution_count": 9,
   "id": "8175221b-3112-4a1a-be33-e31b004eddc6",
   "metadata": {},
   "outputs": [
    {
     "name": "stderr",
     "output_type": "stream",
     "text": [
      "/tmp/ipykernel_909199/3770544564.py:35: FutureWarning: The default of observed=False is deprecated and will be changed to True in a future version of pandas. Pass observed=False to retain current behavior or observed=True to adopt the future default and silence this warning.\n",
      "  pseudobulk_matrix = counts_df.groupby(counts_df.index).sum()\n"
     ]
    },
    {
     "name": "stdout",
     "output_type": "stream",
     "text": [
      "Pseudobulk matrix saved for Capi.\n",
      "Pseudobulk matrix saved for Capi aerocyte.\n",
      "Pseudobulk matrix saved for Pericyte.\n",
      "Pseudobulk matrix saved for Vein EC.\n",
      "Pseudobulk matrix saved for Myofibroblast.\n",
      "Pseudobulk matrix saved for Advential fibro.\n",
      "Pseudobulk matrix saved for Alveolar epi type 2.\n",
      "Pseudobulk matrix saved for Lymphatic vessel EC.\n"
     ]
    }
   ],
   "source": [
    "import pandas as pd\n",
    "import numpy as np\n",
    "\n",
    "# Define columns in `adata_subset.obs` for sample and cell type\n",
    "sample_column = \"replicate\"  # Replace with the column name for sample info\n",
    "cell_type_column = \"cell_type\"  # Replace with the column name for cell type info\n",
    "\n",
    "# Ensure raw counts are available in adata.layers['counts']\n",
    "if \"counts\" not in adata_subset.layers:\n",
    "    raise ValueError(\"Raw counts not found in `adata_subset.layers['counts']`.\")\n",
    "\n",
    "# Create an empty dictionary to store pseudobulk matrices\n",
    "pseudobulk_data = {}\n",
    "\n",
    "# Iterate through each cell type\n",
    "for cell_type in adata_subset.obs[cell_type_column].unique():\n",
    "    # Subset the data for the current cell type\n",
    "    cell_type_data = adata_subset[adata_subset.obs[cell_type_column] == cell_type]\n",
    "\n",
    "    # Extract raw counts from the counts layer\n",
    "    counts_matrix = cell_type_data.layers[\"counts\"]\n",
    "\n",
    "    # If the data is sparse, convert it to dense\n",
    "    if not isinstance(counts_matrix, np.ndarray):\n",
    "        counts_matrix = counts_matrix.toarray()\n",
    "\n",
    "    # Create a DataFrame with counts and sample info\n",
    "    counts_df = pd.DataFrame(\n",
    "        counts_matrix,\n",
    "        index=cell_type_data.obs[sample_column],  # Rows correspond to samples\n",
    "        columns=adata_subset.var_names                  # Columns correspond to genes\n",
    "    )\n",
    "\n",
    "    # Aggregate counts by summing across samples for each gene\n",
    "    pseudobulk_matrix = counts_df.groupby(counts_df.index).sum()\n",
    "\n",
    "    # Store the matrix in the dictionary\n",
    "    pseudobulk_data[cell_type] = pseudobulk_matrix\n",
    "\n",
    "# Save pseudobulk matrices to CSV files\n",
    "for cell_type, matrix in pseudobulk_data.items():\n",
    "    matrix.to_csv(f\"results/{cell_type}_pseudobulk.csv\")\n",
    "    print(f\"Pseudobulk matrix saved for {cell_type}.\")\n"
   ]
  },
  {
   "cell_type": "code",
   "execution_count": 15,
   "id": "1a11eb2a-455c-4719-8b93-dbfd53ad39b3",
   "metadata": {},
   "outputs": [
    {
     "name": "stdout",
     "output_type": "stream",
     "text": [
      "Lymphatic vessel EC\n"
     ]
    },
    {
     "data": {
      "text/html": [
       "<div>\n",
       "<style scoped>\n",
       "    .dataframe tbody tr th:only-of-type {\n",
       "        vertical-align: middle;\n",
       "    }\n",
       "\n",
       "    .dataframe tbody tr th {\n",
       "        vertical-align: top;\n",
       "    }\n",
       "\n",
       "    .dataframe thead th {\n",
       "        text-align: right;\n",
       "    }\n",
       "</style>\n",
       "<table border=\"1\" class=\"dataframe\">\n",
       "  <thead>\n",
       "    <tr style=\"text-align: right;\">\n",
       "      <th></th>\n",
       "      <th>Gm19938</th>\n",
       "      <th>Rp1</th>\n",
       "      <th>Sox17</th>\n",
       "      <th>Gm37587</th>\n",
       "      <th>Gm37323</th>\n",
       "      <th>Mrpl15</th>\n",
       "      <th>Lypla1</th>\n",
       "      <th>Tcea1</th>\n",
       "      <th>Rgs20</th>\n",
       "      <th>Atp6v1h</th>\n",
       "      <th>...</th>\n",
       "      <th>Csprs</th>\n",
       "      <th>AC132444.6</th>\n",
       "      <th>Vamp7</th>\n",
       "      <th>Spry3</th>\n",
       "      <th>Tmlhe</th>\n",
       "      <th>CR974586.4</th>\n",
       "      <th>4933409K07Rik</th>\n",
       "      <th>Gm10931</th>\n",
       "      <th>CAAA01147332.1</th>\n",
       "      <th>AC149090.1</th>\n",
       "    </tr>\n",
       "    <tr>\n",
       "      <th>replicate</th>\n",
       "      <th></th>\n",
       "      <th></th>\n",
       "      <th></th>\n",
       "      <th></th>\n",
       "      <th></th>\n",
       "      <th></th>\n",
       "      <th></th>\n",
       "      <th></th>\n",
       "      <th></th>\n",
       "      <th></th>\n",
       "      <th></th>\n",
       "      <th></th>\n",
       "      <th></th>\n",
       "      <th></th>\n",
       "      <th></th>\n",
       "      <th></th>\n",
       "      <th></th>\n",
       "      <th></th>\n",
       "      <th></th>\n",
       "      <th></th>\n",
       "      <th></th>\n",
       "    </tr>\n",
       "  </thead>\n",
       "  <tbody>\n",
       "    <tr>\n",
       "      <th>KO-Healthy-rep1</th>\n",
       "      <td>0.0</td>\n",
       "      <td>0.0</td>\n",
       "      <td>8.0</td>\n",
       "      <td>0.0</td>\n",
       "      <td>0.0</td>\n",
       "      <td>11.0</td>\n",
       "      <td>10.0</td>\n",
       "      <td>29.0</td>\n",
       "      <td>0.0</td>\n",
       "      <td>5.0</td>\n",
       "      <td>...</td>\n",
       "      <td>0.0</td>\n",
       "      <td>0.0</td>\n",
       "      <td>6.0</td>\n",
       "      <td>0.0</td>\n",
       "      <td>0.0</td>\n",
       "      <td>0.0</td>\n",
       "      <td>1.0</td>\n",
       "      <td>1.0</td>\n",
       "      <td>0.0</td>\n",
       "      <td>0.0</td>\n",
       "    </tr>\n",
       "    <tr>\n",
       "      <th>KO-Healthy-rep2</th>\n",
       "      <td>1.0</td>\n",
       "      <td>0.0</td>\n",
       "      <td>5.0</td>\n",
       "      <td>0.0</td>\n",
       "      <td>0.0</td>\n",
       "      <td>14.0</td>\n",
       "      <td>20.0</td>\n",
       "      <td>27.0</td>\n",
       "      <td>0.0</td>\n",
       "      <td>12.0</td>\n",
       "      <td>...</td>\n",
       "      <td>0.0</td>\n",
       "      <td>0.0</td>\n",
       "      <td>4.0</td>\n",
       "      <td>0.0</td>\n",
       "      <td>2.0</td>\n",
       "      <td>0.0</td>\n",
       "      <td>0.0</td>\n",
       "      <td>0.0</td>\n",
       "      <td>0.0</td>\n",
       "      <td>8.0</td>\n",
       "    </tr>\n",
       "    <tr>\n",
       "      <th>WT-Healthy-rep1</th>\n",
       "      <td>3.0</td>\n",
       "      <td>0.0</td>\n",
       "      <td>3.0</td>\n",
       "      <td>1.0</td>\n",
       "      <td>0.0</td>\n",
       "      <td>9.0</td>\n",
       "      <td>16.0</td>\n",
       "      <td>26.0</td>\n",
       "      <td>1.0</td>\n",
       "      <td>13.0</td>\n",
       "      <td>...</td>\n",
       "      <td>0.0</td>\n",
       "      <td>0.0</td>\n",
       "      <td>7.0</td>\n",
       "      <td>0.0</td>\n",
       "      <td>2.0</td>\n",
       "      <td>0.0</td>\n",
       "      <td>0.0</td>\n",
       "      <td>0.0</td>\n",
       "      <td>1.0</td>\n",
       "      <td>4.0</td>\n",
       "    </tr>\n",
       "    <tr>\n",
       "      <th>WT-Healthy-rep2</th>\n",
       "      <td>3.0</td>\n",
       "      <td>0.0</td>\n",
       "      <td>7.0</td>\n",
       "      <td>0.0</td>\n",
       "      <td>0.0</td>\n",
       "      <td>16.0</td>\n",
       "      <td>12.0</td>\n",
       "      <td>52.0</td>\n",
       "      <td>0.0</td>\n",
       "      <td>10.0</td>\n",
       "      <td>...</td>\n",
       "      <td>0.0</td>\n",
       "      <td>0.0</td>\n",
       "      <td>13.0</td>\n",
       "      <td>0.0</td>\n",
       "      <td>3.0</td>\n",
       "      <td>0.0</td>\n",
       "      <td>0.0</td>\n",
       "      <td>1.0</td>\n",
       "      <td>0.0</td>\n",
       "      <td>1.0</td>\n",
       "    </tr>\n",
       "  </tbody>\n",
       "</table>\n",
       "<p>4 rows × 21893 columns</p>\n",
       "</div>"
      ],
      "text/plain": [
       "                 Gm19938  Rp1  Sox17  Gm37587  Gm37323  Mrpl15  Lypla1  Tcea1  \\\n",
       "replicate                                                                       \n",
       "KO-Healthy-rep1      0.0  0.0    8.0      0.0      0.0    11.0    10.0   29.0   \n",
       "KO-Healthy-rep2      1.0  0.0    5.0      0.0      0.0    14.0    20.0   27.0   \n",
       "WT-Healthy-rep1      3.0  0.0    3.0      1.0      0.0     9.0    16.0   26.0   \n",
       "WT-Healthy-rep2      3.0  0.0    7.0      0.0      0.0    16.0    12.0   52.0   \n",
       "\n",
       "                 Rgs20  Atp6v1h  ...  Csprs  AC132444.6  Vamp7  Spry3  Tmlhe  \\\n",
       "replicate                        ...                                           \n",
       "KO-Healthy-rep1    0.0      5.0  ...    0.0         0.0    6.0    0.0    0.0   \n",
       "KO-Healthy-rep2    0.0     12.0  ...    0.0         0.0    4.0    0.0    2.0   \n",
       "WT-Healthy-rep1    1.0     13.0  ...    0.0         0.0    7.0    0.0    2.0   \n",
       "WT-Healthy-rep2    0.0     10.0  ...    0.0         0.0   13.0    0.0    3.0   \n",
       "\n",
       "                 CR974586.4  4933409K07Rik  Gm10931  CAAA01147332.1  \\\n",
       "replicate                                                             \n",
       "KO-Healthy-rep1         0.0            1.0      1.0             0.0   \n",
       "KO-Healthy-rep2         0.0            0.0      0.0             0.0   \n",
       "WT-Healthy-rep1         0.0            0.0      0.0             1.0   \n",
       "WT-Healthy-rep2         0.0            0.0      1.0             0.0   \n",
       "\n",
       "                 AC149090.1  \n",
       "replicate                    \n",
       "KO-Healthy-rep1         0.0  \n",
       "KO-Healthy-rep2         8.0  \n",
       "WT-Healthy-rep1         4.0  \n",
       "WT-Healthy-rep2         1.0  \n",
       "\n",
       "[4 rows x 21893 columns]"
      ]
     },
     "execution_count": 15,
     "metadata": {},
     "output_type": "execute_result"
    }
   ],
   "source": [
    "print(cell_type)\n",
    "matrix"
   ]
  }
 ],
 "metadata": {
  "kernelspec": {
   "display_name": "Python scanpy_amir",
   "language": "python",
   "name": "scanpy_amir"
  },
  "language_info": {
   "codemirror_mode": {
    "name": "ipython",
    "version": 3
   },
   "file_extension": ".py",
   "mimetype": "text/x-python",
   "name": "python",
   "nbconvert_exporter": "python",
   "pygments_lexer": "ipython3",
   "version": "3.12.7"
  },
  "mystnb": {
   "execution_mode": "off"
  },
  "widgets": {
   "application/vnd.jupyter.widget-state+json": {
    "state": {},
    "version_major": 2,
    "version_minor": 0
   }
  }
 },
 "nbformat": 4,
 "nbformat_minor": 5
}
